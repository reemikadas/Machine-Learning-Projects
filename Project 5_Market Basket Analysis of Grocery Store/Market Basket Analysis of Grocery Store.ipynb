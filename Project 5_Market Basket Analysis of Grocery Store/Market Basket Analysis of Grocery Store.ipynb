{
 "cells": [
  {
   "cell_type": "markdown",
   "id": "30e4ea17-48d4-4735-8739-4b41fe6ec405",
   "metadata": {},
   "source": [
    "# Market Basket Analysis of Grocery Store"
   ]
  },
  {
   "cell_type": "markdown",
   "id": "23ee7828-ab37-4705-9198-960e41d23d3d",
   "metadata": {},
   "source": [
    "### Importing Dependencies"
   ]
  },
  {
   "cell_type": "code",
   "execution_count": 3,
   "id": "b948cdeb-916d-4769-a211-796b97444108",
   "metadata": {},
   "outputs": [],
   "source": [
    "# Print all the outputs in a cell\n",
    "from IPython.core.interactiveshell import InteractiveShell\n",
    "InteractiveShell.ast_node_interactivity = \"all\"\n",
    "\n",
    "# Library for Warning Message\n",
    "import warnings\n",
    "warnings.simplefilter(\"ignore\")\n",
    "warnings.filterwarnings(\"ignore\", category=UserWarning)\n",
    "warnings.filterwarnings(\"ignore\", category=FutureWarning)\n",
    "warnings.filterwarnings(\"ignore\", category=RuntimeWarning)\n",
    "warnings.filterwarnings(\"ignore\", category=DeprecationWarning)\n",
    "warnings.filterwarnings(\"ignore\", message=\".*no associated frequency information.*\")\n",
    "warnings.filterwarnings(\"ignore\", message=\".*Maximum Likelihood optimization failed to converge.*\")\n",
    "\n",
    "# Base Libraries\n",
    "import pandas as pd\n",
    "import numpy as np\n",
    "import matplotlib.pyplot as plt\n",
    "import seaborn as sns\n",
    "import datetime\n",
    "import re\n",
    "\n",
    "# MBA Libraries\n",
    "from mlxtend.frequent_patterns import apriori, association_rules"
   ]
  },
  {
   "cell_type": "markdown",
   "id": "747359d4-52fa-46b0-93bc-79b767c6c680",
   "metadata": {},
   "source": [
    "### Data Collection and Loading"
   ]
  },
  {
   "cell_type": "markdown",
   "id": "92d7d052-89e0-4fdd-a031-d717a8aa9b14",
   "metadata": {},
   "source": [
    "Data Source - Kaggle (*https://www.kaggle.com/datasets/heeraldedhia/groceries-dataset*)"
   ]
  },
  {
   "cell_type": "code",
   "execution_count": 6,
   "id": "bc1a273a-c19b-44c4-bdb3-4a8e74c9a69a",
   "metadata": {},
   "outputs": [],
   "source": [
    "# Load the data\n",
    "df = pd.read_csv(\"groceries_dataset.csv\")"
   ]
  },
  {
   "cell_type": "markdown",
   "id": "4634f59c-ee33-4e79-b3ef-b754d9bb38b6",
   "metadata": {},
   "source": [
    "### Data Exploration"
   ]
  },
  {
   "cell_type": "code",
   "execution_count": 8,
   "id": "499d87ce-a6ca-4ebb-b20c-04aa59f5b3f2",
   "metadata": {},
   "outputs": [
    {
     "data": {
      "text/html": [
       "<div>\n",
       "<style scoped>\n",
       "    .dataframe tbody tr th:only-of-type {\n",
       "        vertical-align: middle;\n",
       "    }\n",
       "\n",
       "    .dataframe tbody tr th {\n",
       "        vertical-align: top;\n",
       "    }\n",
       "\n",
       "    .dataframe thead th {\n",
       "        text-align: right;\n",
       "    }\n",
       "</style>\n",
       "<table border=\"1\" class=\"dataframe\">\n",
       "  <thead>\n",
       "    <tr style=\"text-align: right;\">\n",
       "      <th></th>\n",
       "      <th>Member_number</th>\n",
       "      <th>Date</th>\n",
       "      <th>itemDescription</th>\n",
       "    </tr>\n",
       "  </thead>\n",
       "  <tbody>\n",
       "    <tr>\n",
       "      <th>0</th>\n",
       "      <td>1808</td>\n",
       "      <td>21-07-2015</td>\n",
       "      <td>tropical fruit</td>\n",
       "    </tr>\n",
       "    <tr>\n",
       "      <th>1</th>\n",
       "      <td>2552</td>\n",
       "      <td>05-01-2015</td>\n",
       "      <td>whole milk</td>\n",
       "    </tr>\n",
       "    <tr>\n",
       "      <th>2</th>\n",
       "      <td>2300</td>\n",
       "      <td>19-09-2015</td>\n",
       "      <td>pip fruit</td>\n",
       "    </tr>\n",
       "    <tr>\n",
       "      <th>3</th>\n",
       "      <td>1187</td>\n",
       "      <td>12-12-2015</td>\n",
       "      <td>other vegetables</td>\n",
       "    </tr>\n",
       "    <tr>\n",
       "      <th>4</th>\n",
       "      <td>3037</td>\n",
       "      <td>01-02-2015</td>\n",
       "      <td>whole milk</td>\n",
       "    </tr>\n",
       "  </tbody>\n",
       "</table>\n",
       "</div>"
      ],
      "text/plain": [
       "   Member_number        Date   itemDescription\n",
       "0           1808  21-07-2015    tropical fruit\n",
       "1           2552  05-01-2015        whole milk\n",
       "2           2300  19-09-2015         pip fruit\n",
       "3           1187  12-12-2015  other vegetables\n",
       "4           3037  01-02-2015        whole milk"
      ]
     },
     "execution_count": 8,
     "metadata": {},
     "output_type": "execute_result"
    }
   ],
   "source": [
    "# View the first 5 rows\n",
    "df.head()"
   ]
  },
  {
   "cell_type": "markdown",
   "id": "c110d1d6-b257-4166-a1fa-933b94959d09",
   "metadata": {},
   "source": [
    "**Data Description**\n",
    "\n",
    "- Member_number: Customer ID\n",
    "- Date: Purchase Date / Transaction Date\n",
    "- itemDescription: Description of product purchased"
   ]
  },
  {
   "cell_type": "code",
   "execution_count": 10,
   "id": "69e3322c-d77a-4885-aa36-b27c374acb53",
   "metadata": {},
   "outputs": [
    {
     "name": "stdout",
     "output_type": "stream",
     "text": [
      "The dataset contains 38765 rows and 3 columns.\n"
     ]
    }
   ],
   "source": [
    "# Dimension of Data\n",
    "print(\"The dataset contains {} rows and {} columns.\".format(df.shape[0], df.shape[1]))"
   ]
  },
  {
   "cell_type": "code",
   "execution_count": 11,
   "id": "c550a354-6264-4763-b64f-9111393f88ef",
   "metadata": {},
   "outputs": [
    {
     "name": "stdout",
     "output_type": "stream",
     "text": [
      "<class 'pandas.core.frame.DataFrame'>\n",
      "RangeIndex: 38765 entries, 0 to 38764\n",
      "Data columns (total 3 columns):\n",
      " #   Column           Non-Null Count  Dtype \n",
      "---  ------           --------------  ----- \n",
      " 0   Member_number    38765 non-null  int64 \n",
      " 1   Date             38765 non-null  object\n",
      " 2   itemDescription  38765 non-null  object\n",
      "dtypes: int64(1), object(2)\n",
      "memory usage: 908.7+ KB\n"
     ]
    }
   ],
   "source": [
    "# Data Type\n",
    "df.info()"
   ]
  },
  {
   "cell_type": "code",
   "execution_count": 12,
   "id": "e28f6fce-2fc7-4cb7-9b44-c0729f812ec5",
   "metadata": {},
   "outputs": [
    {
     "name": "stdout",
     "output_type": "stream",
     "text": [
      "<class 'pandas.core.frame.DataFrame'>\n",
      "RangeIndex: 38765 entries, 0 to 38764\n",
      "Data columns (total 3 columns):\n",
      " #   Column           Non-Null Count  Dtype         \n",
      "---  ------           --------------  -----         \n",
      " 0   Member_number    38765 non-null  int64         \n",
      " 1   itemDescription  38765 non-null  object        \n",
      " 2   date             38765 non-null  datetime64[ns]\n",
      "dtypes: datetime64[ns](1), int64(1), object(1)\n",
      "memory usage: 908.7+ KB\n"
     ]
    }
   ],
   "source": [
    "# Change the format of 'Date' column to \"YYYY-MM-DD\" \n",
    "\n",
    "# 1. Convert Date to 'datetime'\n",
    "df['Date'] = pd.to_datetime(df['Date'])\n",
    "\n",
    "# 2. Create new column for Date only but keep the data type as 'datetime'\n",
    "df['date'] = df['Date'].dt.floor('D')\n",
    "\n",
    "# 3. Drop the 'Date' column with incorrect format\n",
    "df = df.drop(columns = ['Date'])\n",
    "\n",
    "# Verify\n",
    "df.info()"
   ]
  },
  {
   "cell_type": "code",
   "execution_count": 13,
   "id": "1f4bf17f-f29f-44d9-a1b9-3d1f8937e108",
   "metadata": {},
   "outputs": [
    {
     "name": "stdout",
     "output_type": "stream",
     "text": [
      "The dataset doesn't contain any missing values.\n"
     ]
    }
   ],
   "source": [
    "# Check the Missing Data\n",
    "is_missing = df.isna().any().any()\n",
    "\n",
    "if is_missing == True:\n",
    "    print(\"The dataset contains {} missing values.\".format(df.isna().sum().sum()))\n",
    "else:\n",
    "    print(\"The dataset doesn't contain any missing values.\")"
   ]
  },
  {
   "cell_type": "markdown",
   "id": "5317bb94-152e-4a3b-822c-82ed9680aee6",
   "metadata": {},
   "source": [
    "### Data Cleansing"
   ]
  },
  {
   "cell_type": "markdown",
   "id": "61470d00-8eae-4ecf-b296-848c34a9f1fa",
   "metadata": {},
   "source": [
    "Rename the field names to meaningful labels and convert them to lowercase."
   ]
  },
  {
   "cell_type": "code",
   "execution_count": 16,
   "id": "667a0ca5-b8c8-4cdd-a27d-605d98c07723",
   "metadata": {},
   "outputs": [
    {
     "data": {
      "text/html": [
       "<div>\n",
       "<style scoped>\n",
       "    .dataframe tbody tr th:only-of-type {\n",
       "        vertical-align: middle;\n",
       "    }\n",
       "\n",
       "    .dataframe tbody tr th {\n",
       "        vertical-align: top;\n",
       "    }\n",
       "\n",
       "    .dataframe thead th {\n",
       "        text-align: right;\n",
       "    }\n",
       "</style>\n",
       "<table border=\"1\" class=\"dataframe\">\n",
       "  <thead>\n",
       "    <tr style=\"text-align: right;\">\n",
       "      <th></th>\n",
       "      <th>Member_number</th>\n",
       "      <th>itemDescription</th>\n",
       "      <th>date</th>\n",
       "    </tr>\n",
       "  </thead>\n",
       "  <tbody>\n",
       "    <tr>\n",
       "      <th>0</th>\n",
       "      <td>1808</td>\n",
       "      <td>tropical fruit</td>\n",
       "      <td>2015-07-21</td>\n",
       "    </tr>\n",
       "    <tr>\n",
       "      <th>1</th>\n",
       "      <td>2552</td>\n",
       "      <td>whole milk</td>\n",
       "      <td>2015-01-05</td>\n",
       "    </tr>\n",
       "    <tr>\n",
       "      <th>2</th>\n",
       "      <td>2300</td>\n",
       "      <td>pip fruit</td>\n",
       "      <td>2015-09-19</td>\n",
       "    </tr>\n",
       "    <tr>\n",
       "      <th>3</th>\n",
       "      <td>1187</td>\n",
       "      <td>other vegetables</td>\n",
       "      <td>2015-12-12</td>\n",
       "    </tr>\n",
       "    <tr>\n",
       "      <th>4</th>\n",
       "      <td>3037</td>\n",
       "      <td>whole milk</td>\n",
       "      <td>2015-02-01</td>\n",
       "    </tr>\n",
       "  </tbody>\n",
       "</table>\n",
       "</div>"
      ],
      "text/plain": [
       "   Member_number   itemDescription       date\n",
       "0           1808    tropical fruit 2015-07-21\n",
       "1           2552        whole milk 2015-01-05\n",
       "2           2300         pip fruit 2015-09-19\n",
       "3           1187  other vegetables 2015-12-12\n",
       "4           3037        whole milk 2015-02-01"
      ]
     },
     "execution_count": 16,
     "metadata": {},
     "output_type": "execute_result"
    }
   ],
   "source": [
    "df.head()"
   ]
  },
  {
   "cell_type": "code",
   "execution_count": 17,
   "id": "f295e333-3f81-4ad9-858e-38828fb3793a",
   "metadata": {},
   "outputs": [
    {
     "data": {
      "text/html": [
       "<div>\n",
       "<style scoped>\n",
       "    .dataframe tbody tr th:only-of-type {\n",
       "        vertical-align: middle;\n",
       "    }\n",
       "\n",
       "    .dataframe tbody tr th {\n",
       "        vertical-align: top;\n",
       "    }\n",
       "\n",
       "    .dataframe thead th {\n",
       "        text-align: right;\n",
       "    }\n",
       "</style>\n",
       "<table border=\"1\" class=\"dataframe\">\n",
       "  <thead>\n",
       "    <tr style=\"text-align: right;\">\n",
       "      <th></th>\n",
       "      <th>customer_id</th>\n",
       "      <th>item_desc</th>\n",
       "      <th>date</th>\n",
       "    </tr>\n",
       "  </thead>\n",
       "  <tbody>\n",
       "    <tr>\n",
       "      <th>0</th>\n",
       "      <td>1808</td>\n",
       "      <td>tropical fruit</td>\n",
       "      <td>2015-07-21</td>\n",
       "    </tr>\n",
       "    <tr>\n",
       "      <th>1</th>\n",
       "      <td>2552</td>\n",
       "      <td>whole milk</td>\n",
       "      <td>2015-01-05</td>\n",
       "    </tr>\n",
       "    <tr>\n",
       "      <th>2</th>\n",
       "      <td>2300</td>\n",
       "      <td>pip fruit</td>\n",
       "      <td>2015-09-19</td>\n",
       "    </tr>\n",
       "    <tr>\n",
       "      <th>3</th>\n",
       "      <td>1187</td>\n",
       "      <td>other vegetables</td>\n",
       "      <td>2015-12-12</td>\n",
       "    </tr>\n",
       "    <tr>\n",
       "      <th>4</th>\n",
       "      <td>3037</td>\n",
       "      <td>whole milk</td>\n",
       "      <td>2015-02-01</td>\n",
       "    </tr>\n",
       "  </tbody>\n",
       "</table>\n",
       "</div>"
      ],
      "text/plain": [
       "   customer_id         item_desc       date\n",
       "0         1808    tropical fruit 2015-07-21\n",
       "1         2552        whole milk 2015-01-05\n",
       "2         2300         pip fruit 2015-09-19\n",
       "3         1187  other vegetables 2015-12-12\n",
       "4         3037        whole milk 2015-02-01"
      ]
     },
     "execution_count": 17,
     "metadata": {},
     "output_type": "execute_result"
    }
   ],
   "source": [
    "df.columns = ['customer_id', 'item_desc', 'date']\n",
    "\n",
    "# Verify\n",
    "df.head()"
   ]
  },
  {
   "cell_type": "markdown",
   "id": "94fb6c7b-745f-437d-89d4-b09020d81924",
   "metadata": {},
   "source": [
    "If there is an extra whitespace from item description column, remove it."
   ]
  },
  {
   "cell_type": "code",
   "execution_count": 19,
   "id": "80189fb8-c146-4a71-845c-a5a398bfd607",
   "metadata": {},
   "outputs": [],
   "source": [
    "df['item_desc'] = df['item_desc'].astype('str').apply(lambda x: re.sub(r'\\s+', ' ', x).strip())"
   ]
  },
  {
   "cell_type": "markdown",
   "id": "5569c5df-6111-4dec-88b7-0fe9d0fa1ba4",
   "metadata": {},
   "source": [
    "### Exploratory Data Analysis (EDA)"
   ]
  },
  {
   "cell_type": "markdown",
   "id": "50613d33-972d-450f-b54c-3c70857730a6",
   "metadata": {},
   "source": [
    "What is the duration of the transaction period?"
   ]
  },
  {
   "cell_type": "code",
   "execution_count": 22,
   "id": "3d5980e4-6f4c-46f4-ae89-1c669ac9d439",
   "metadata": {},
   "outputs": [
    {
     "name": "stdout",
     "output_type": "stream",
     "text": [
      "The duration of the transaction period is from 2014-01-01 to 2015-12-30.\n"
     ]
    }
   ],
   "source": [
    "print(\"The duration of the transaction period is from {} to {}.\".format(df['date'].dt.date.min(), df['date'].dt.date.max()))"
   ]
  },
  {
   "cell_type": "markdown",
   "id": "bf241296-fb18-4ae1-9f1f-167b26aae5fe",
   "metadata": {},
   "source": [
    "How many customers does the Grocery store has?"
   ]
  },
  {
   "cell_type": "code",
   "execution_count": 24,
   "id": "4bc0d696-be80-46e2-a4c9-fb8dbd829510",
   "metadata": {},
   "outputs": [
    {
     "name": "stdout",
     "output_type": "stream",
     "text": [
      "The Grocery store has 3898 distinct customers.\n"
     ]
    }
   ],
   "source": [
    "print(\"The Grocery store has {} distinct customers.\".format(df['customer_id'].nunique()))"
   ]
  },
  {
   "cell_type": "markdown",
   "id": "2db59bdc-b189-4afb-9208-2d481921ba33",
   "metadata": {},
   "source": [
    "How many distinct products does the Grocery store sells? Also, list the products."
   ]
  },
  {
   "cell_type": "code",
   "execution_count": 26,
   "id": "84d62941-306a-477c-b7eb-27598fe749ce",
   "metadata": {},
   "outputs": [
    {
     "name": "stdout",
     "output_type": "stream",
     "text": [
      "The Grocery store has 167 distinct products.\n",
      "List of Distinct Products\n"
     ]
    },
    {
     "data": {
      "text/plain": [
       "['tropical fruit',\n",
       " 'whole milk',\n",
       " 'pip fruit',\n",
       " 'other vegetables',\n",
       " 'rolls/buns',\n",
       " 'pot plants',\n",
       " 'citrus fruit',\n",
       " 'beef',\n",
       " 'frankfurter',\n",
       " 'chicken',\n",
       " 'butter',\n",
       " 'fruit/vegetable juice',\n",
       " 'packaged fruit/vegetables',\n",
       " 'chocolate',\n",
       " 'specialty bar',\n",
       " 'butter milk',\n",
       " 'bottled water',\n",
       " 'yogurt',\n",
       " 'sausage',\n",
       " 'brown bread',\n",
       " 'hamburger meat',\n",
       " 'root vegetables',\n",
       " 'pork',\n",
       " 'pastry',\n",
       " 'canned beer',\n",
       " 'berries',\n",
       " 'coffee',\n",
       " 'misc. beverages',\n",
       " 'ham',\n",
       " 'turkey',\n",
       " 'curd cheese',\n",
       " 'red/blush wine',\n",
       " 'frozen potato products',\n",
       " 'flour',\n",
       " 'sugar',\n",
       " 'frozen meals',\n",
       " 'herbs',\n",
       " 'soda',\n",
       " 'detergent',\n",
       " 'grapes',\n",
       " 'processed cheese',\n",
       " 'fish',\n",
       " 'sparkling wine',\n",
       " 'newspapers',\n",
       " 'curd',\n",
       " 'pasta',\n",
       " 'popcorn',\n",
       " 'finished products',\n",
       " 'beverages',\n",
       " 'bottled beer',\n",
       " 'dessert',\n",
       " 'dog food',\n",
       " 'specialty chocolate',\n",
       " 'condensed milk',\n",
       " 'cleaner',\n",
       " 'white wine',\n",
       " 'meat',\n",
       " 'ice cream',\n",
       " 'hard cheese',\n",
       " 'cream cheese',\n",
       " 'liquor',\n",
       " 'pickled vegetables',\n",
       " 'liquor (appetizer)',\n",
       " 'UHT-milk',\n",
       " 'candy',\n",
       " 'onions',\n",
       " 'hair spray',\n",
       " 'photo/film',\n",
       " 'domestic eggs',\n",
       " 'margarine',\n",
       " 'shopping bags',\n",
       " 'salt',\n",
       " 'oil',\n",
       " 'whipped/sour cream',\n",
       " 'frozen vegetables',\n",
       " 'sliced cheese',\n",
       " 'dish cleaner',\n",
       " 'baking powder',\n",
       " 'specialty cheese',\n",
       " 'salty snack',\n",
       " 'Instant food products',\n",
       " 'pet care',\n",
       " 'white bread',\n",
       " 'female sanitary products',\n",
       " 'cling film/bags',\n",
       " 'soap',\n",
       " 'frozen chicken',\n",
       " 'house keeping products',\n",
       " 'spread cheese',\n",
       " 'decalcifier',\n",
       " 'frozen dessert',\n",
       " 'vinegar',\n",
       " 'nuts/prunes',\n",
       " 'potato products',\n",
       " 'frozen fish',\n",
       " 'hygiene articles',\n",
       " 'artif. sweetener',\n",
       " 'light bulbs',\n",
       " 'canned vegetables',\n",
       " 'chewing gum',\n",
       " 'canned fish',\n",
       " 'cookware',\n",
       " 'semi-finished bread',\n",
       " 'cat food',\n",
       " 'bathroom cleaner',\n",
       " 'prosecco',\n",
       " 'liver loaf',\n",
       " 'zwieback',\n",
       " 'canned fruit',\n",
       " 'frozen fruits',\n",
       " 'brandy',\n",
       " 'baby cosmetics',\n",
       " 'spices',\n",
       " 'napkins',\n",
       " 'waffles',\n",
       " 'sauces',\n",
       " 'rum',\n",
       " 'chocolate marshmallow',\n",
       " 'long life bakery product',\n",
       " 'bags',\n",
       " 'sweet spreads',\n",
       " 'soups',\n",
       " 'mustard',\n",
       " 'specialty fat',\n",
       " 'instant coffee',\n",
       " 'snack products',\n",
       " 'organic sausage',\n",
       " 'soft cheese',\n",
       " 'mayonnaise',\n",
       " 'dental care',\n",
       " 'roll products',\n",
       " 'kitchen towels',\n",
       " 'flower soil/fertilizer',\n",
       " 'cereals',\n",
       " 'meat spreads',\n",
       " 'dishes',\n",
       " 'male cosmetics',\n",
       " 'candles',\n",
       " 'whisky',\n",
       " 'tidbits',\n",
       " 'cooking chocolate',\n",
       " 'seasonal products',\n",
       " 'liqueur',\n",
       " 'abrasive cleaner',\n",
       " 'syrup',\n",
       " 'ketchup',\n",
       " 'cream',\n",
       " 'skin care',\n",
       " 'rubbing alcohol',\n",
       " 'nut snack',\n",
       " 'cocoa drinks',\n",
       " 'softener',\n",
       " 'organic products',\n",
       " 'cake bar',\n",
       " 'honey',\n",
       " 'jam',\n",
       " 'kitchen utensil',\n",
       " 'flower (seeds)',\n",
       " 'rice',\n",
       " 'tea',\n",
       " 'salad dressing',\n",
       " 'specialty vegetables',\n",
       " 'pudding powder',\n",
       " 'ready soups',\n",
       " 'make up remover',\n",
       " 'toilet cleaner',\n",
       " 'preservation products']"
      ]
     },
     "execution_count": 26,
     "metadata": {},
     "output_type": "execute_result"
    }
   ],
   "source": [
    "print(\"The Grocery store has {} distinct products.\".format(df['item_desc'].nunique()))\n",
    "print(\"List of Distinct Products\")\n",
    "df['item_desc'].unique().tolist()"
   ]
  },
  {
   "cell_type": "markdown",
   "id": "c625eeec-d08b-447f-aa84-d7ff8ffce2b9",
   "metadata": {},
   "source": [
    "Plot the top 5 products based on purchase frequency Vs distinct customers."
   ]
  },
  {
   "cell_type": "code",
   "execution_count": 28,
   "id": "2f59b37d-04b9-4ee5-b701-fe42a8260fe9",
   "metadata": {},
   "outputs": [
    {
     "name": "stderr",
     "output_type": "stream",
     "text": [
      "/Applications/anaconda3/lib/python3.12/site-packages/IPython/core/pylabtools.py:77: DeprecationWarning: backend2gui is deprecated since IPython 8.24, backends are managed in matplotlib and can be externally registered.\n",
      "  warnings.warn(\n",
      "/Applications/anaconda3/lib/python3.12/site-packages/IPython/core/pylabtools.py:77: DeprecationWarning: backend2gui is deprecated since IPython 8.24, backends are managed in matplotlib and can be externally registered.\n",
      "  warnings.warn(\n",
      "/Applications/anaconda3/lib/python3.12/site-packages/IPython/core/pylabtools.py:77: DeprecationWarning: backend2gui is deprecated since IPython 8.24, backends are managed in matplotlib and can be externally registered.\n",
      "  warnings.warn(\n"
     ]
    },
    {
     "data": {
      "text/plain": [
       "<Figure size 1200x800 with 0 Axes>"
      ]
     },
     "execution_count": 28,
     "metadata": {},
     "output_type": "execute_result"
    },
    {
     "data": {
      "text/plain": [
       "<Axes: >"
      ]
     },
     "execution_count": 28,
     "metadata": {},
     "output_type": "execute_result"
    },
    {
     "data": {
      "text/plain": [
       "<BarContainer object of 5 artists>"
      ]
     },
     "execution_count": 28,
     "metadata": {},
     "output_type": "execute_result"
    },
    {
     "data": {
      "text/plain": [
       "Text(0.5, 0, 'Products')"
      ]
     },
     "execution_count": 28,
     "metadata": {},
     "output_type": "execute_result"
    },
    {
     "data": {
      "text/plain": [
       "Text(0, 0.5, 'Counts')"
      ]
     },
     "execution_count": 28,
     "metadata": {},
     "output_type": "execute_result"
    },
    {
     "data": {
      "text/plain": [
       "Text(0.5, 1.0, 'Top 5 Products Popular by Purchase Frequency')"
      ]
     },
     "execution_count": 28,
     "metadata": {},
     "output_type": "execute_result"
    },
    {
     "data": {
      "text/plain": [
       "([0, 1, 2, 3, 4],\n",
       " [Text(0, 0, 'whole milk'),\n",
       "  Text(1, 0, 'other vegetables'),\n",
       "  Text(2, 0, 'rolls/buns'),\n",
       "  Text(3, 0, 'soda'),\n",
       "  Text(4, 0, 'yogurt')])"
      ]
     },
     "execution_count": 28,
     "metadata": {},
     "output_type": "execute_result"
    },
    {
     "data": {
      "text/plain": [
       "<Axes: >"
      ]
     },
     "execution_count": 28,
     "metadata": {},
     "output_type": "execute_result"
    },
    {
     "data": {
      "text/plain": [
       "<BarContainer object of 5 artists>"
      ]
     },
     "execution_count": 28,
     "metadata": {},
     "output_type": "execute_result"
    },
    {
     "data": {
      "text/plain": [
       "Text(0.5, 0, 'Products')"
      ]
     },
     "execution_count": 28,
     "metadata": {},
     "output_type": "execute_result"
    },
    {
     "data": {
      "text/plain": [
       "Text(0, 0.5, 'Counts')"
      ]
     },
     "execution_count": 28,
     "metadata": {},
     "output_type": "execute_result"
    },
    {
     "data": {
      "text/plain": [
       "Text(0.5, 1.0, 'Top 5 Products Popular by Distinct Customers')"
      ]
     },
     "execution_count": 28,
     "metadata": {},
     "output_type": "execute_result"
    },
    {
     "data": {
      "text/plain": [
       "([0, 1, 2, 3, 4],\n",
       " [Text(0, 0, 'whole milk'),\n",
       "  Text(1, 0, 'other vegetables'),\n",
       "  Text(2, 0, 'rolls/buns'),\n",
       "  Text(3, 0, 'soda'),\n",
       "  Text(4, 0, 'yogurt')])"
      ]
     },
     "execution_count": 28,
     "metadata": {},
     "output_type": "execute_result"
    },
    {
     "data": {
      "image/png": "[encoded data removed]",
      "text/plain": [
       "<Figure size 1200x800 with 2 Axes>"
      ]
     },
     "metadata": {},
     "output_type": "display_data"
    }
   ],
   "source": [
    "popular_by_purchase_freq = df.groupby('item_desc', as_index = False)[['customer_id']].count().rename(columns = {\"customer_id\" : \"product_count\"}).\\\n",
    "sort_values(\"product_count\", ascending = False)\n",
    "popular_by_purchase_freq = popular_by_purchase_freq.head()\n",
    "\n",
    "popular_by_diff_customer = df.groupby('item_desc', as_index = False)[['customer_id']].nunique().rename(columns = {\"customer_id\" : \"product_count\"}).\\\n",
    "sort_values(\"product_count\", ascending = False)\n",
    "popular_by_diff_customer = popular_by_diff_customer.head()\n",
    "\n",
    "# Plot\n",
    "plt.figure(figsize = (12,8))\n",
    "\n",
    "plt.subplot(1,2,1)\n",
    "plt.bar(x = popular_by_purchase_freq['item_desc'], height = popular_by_purchase_freq['product_count'], color = 'skyblue')\n",
    "plt.xlabel('Products')\n",
    "plt.ylabel('Counts')\n",
    "plt.title('Top 5 Products Popular by Purchase Frequency')\n",
    "plt.xticks(rotation = 45)\n",
    "\n",
    "plt.subplot(1,2,2)\n",
    "plt.bar(x = popular_by_diff_customer['item_desc'], height = popular_by_diff_customer['product_count'], color = 'lightgreen')\n",
    "plt.xlabel('Products')\n",
    "plt.ylabel('Counts')\n",
    "plt.title('Top 5 Products Popular by Distinct Customers')\n",
    "plt.xticks(rotation = 45)\n",
    "\n",
    "plt.tight_layout()\n",
    "plt.show()"
   ]
  },
  {
   "cell_type": "markdown",
   "id": "f0bfe050-269b-4b8d-a37c-d9706908d10e",
   "metadata": {},
   "source": [
    "- Left Chart measures how often products were bought overall (including repeats by the same customer). It highlights repeat demand.\n",
    "- Right Chart measures how many different customers bought the product. It highlights product reach across customers."
   ]
  },
  {
   "cell_type": "markdown",
   "id": "7defa34f-96ab-4e73-a67b-c0ef5d528062",
   "metadata": {},
   "source": [
    "Are there any seasonal products?"
   ]
  },
  {
   "cell_type": "code",
   "execution_count": 31,
   "id": "4384a5ec-ba2a-473b-b5ca-3d5b96f1d879",
   "metadata": {},
   "outputs": [
    {
     "data": {
      "text/html": [
       "<div>\n",
       "<style scoped>\n",
       "    .dataframe tbody tr th:only-of-type {\n",
       "        vertical-align: middle;\n",
       "    }\n",
       "\n",
       "    .dataframe tbody tr th {\n",
       "        vertical-align: top;\n",
       "    }\n",
       "\n",
       "    .dataframe thead th {\n",
       "        text-align: right;\n",
       "    }\n",
       "</style>\n",
       "<table border=\"1\" class=\"dataframe\">\n",
       "  <thead>\n",
       "    <tr style=\"text-align: right;\">\n",
       "      <th></th>\n",
       "      <th>item_desc</th>\n",
       "      <th>mean</th>\n",
       "      <th>std</th>\n",
       "      <th>cv</th>\n",
       "    </tr>\n",
       "  </thead>\n",
       "  <tbody>\n",
       "    <tr>\n",
       "      <th>125</th>\n",
       "      <td>rum</td>\n",
       "      <td>2.388889</td>\n",
       "      <td>1.615893</td>\n",
       "      <td>0.676420</td>\n",
       "    </tr>\n",
       "    <tr>\n",
       "      <th>51</th>\n",
       "      <td>finished products</td>\n",
       "      <td>3.500000</td>\n",
       "      <td>2.315953</td>\n",
       "      <td>0.661701</td>\n",
       "    </tr>\n",
       "    <tr>\n",
       "      <th>52</th>\n",
       "      <td>fish</td>\n",
       "      <td>1.791667</td>\n",
       "      <td>1.176635</td>\n",
       "      <td>0.656726</td>\n",
       "    </tr>\n",
       "    <tr>\n",
       "      <th>101</th>\n",
       "      <td>organic sausage</td>\n",
       "      <td>1.900000</td>\n",
       "      <td>1.197219</td>\n",
       "      <td>0.630115</td>\n",
       "    </tr>\n",
       "    <tr>\n",
       "      <th>146</th>\n",
       "      <td>specialty fat</td>\n",
       "      <td>1.909091</td>\n",
       "      <td>1.200379</td>\n",
       "      <td>0.628770</td>\n",
       "    </tr>\n",
       "  </tbody>\n",
       "</table>\n",
       "</div>"
      ],
      "text/plain": [
       "             item_desc      mean       std        cv\n",
       "125                rum  2.388889  1.615893  0.676420\n",
       "51   finished products  3.500000  2.315953  0.661701\n",
       "52                fish  1.791667  1.176635  0.656726\n",
       "101    organic sausage  1.900000  1.197219  0.630115\n",
       "146      specialty fat  1.909091  1.200379  0.628770"
      ]
     },
     "execution_count": 31,
     "metadata": {},
     "output_type": "execute_result"
    },
    {
     "data": {
      "text/plain": [
       "<Figure size 1200x800 with 0 Axes>"
      ]
     },
     "execution_count": 31,
     "metadata": {},
     "output_type": "execute_result"
    },
    {
     "data": {
      "text/plain": [
       "[<matplotlib.lines.Line2D at 0x162068cb0>]"
      ]
     },
     "execution_count": 31,
     "metadata": {},
     "output_type": "execute_result"
    },
    {
     "data": {
      "text/plain": [
       "[<matplotlib.lines.Line2D at 0x1620f1e50>]"
      ]
     },
     "execution_count": 31,
     "metadata": {},
     "output_type": "execute_result"
    },
    {
     "data": {
      "text/plain": [
       "[<matplotlib.lines.Line2D at 0x1620f2fc0>]"
      ]
     },
     "execution_count": 31,
     "metadata": {},
     "output_type": "execute_result"
    },
    {
     "data": {
      "text/plain": [
       "[<matplotlib.lines.Line2D at 0x1620f32c0>]"
      ]
     },
     "execution_count": 31,
     "metadata": {},
     "output_type": "execute_result"
    },
    {
     "data": {
      "text/plain": [
       "[<matplotlib.lines.Line2D at 0x1620f3020>]"
      ]
     },
     "execution_count": 31,
     "metadata": {},
     "output_type": "execute_result"
    },
    {
     "data": {
      "text/plain": [
       "Text(0.5, 1.0, 'Top 5 Seasonal Product')"
      ]
     },
     "execution_count": 31,
     "metadata": {},
     "output_type": "execute_result"
    },
    {
     "data": {
      "text/plain": [
       "Text(0.5, 0, 'Month')"
      ]
     },
     "execution_count": 31,
     "metadata": {},
     "output_type": "execute_result"
    },
    {
     "data": {
      "text/plain": [
       "Text(0, 0.5, 'Avg Purchase')"
      ]
     },
     "execution_count": 31,
     "metadata": {},
     "output_type": "execute_result"
    },
    {
     "data": {
      "text/plain": [
       "([<matplotlib.axis.XTick at 0x16208a5d0>,\n",
       "  <matplotlib.axis.XTick at 0x16208aba0>,\n",
       "  <matplotlib.axis.XTick at 0x14fdd08c0>,\n",
       "  <matplotlib.axis.XTick at 0x1620f3e60>,\n",
       "  <matplotlib.axis.XTick at 0x16212cb90>,\n",
       "  <matplotlib.axis.XTick at 0x16212d520>,\n",
       "  <matplotlib.axis.XTick at 0x16212ce00>,\n",
       "  <matplotlib.axis.XTick at 0x16212e030>,\n",
       "  <matplotlib.axis.XTick at 0x16212e960>,\n",
       "  <matplotlib.axis.XTick at 0x16212f2c0>,\n",
       "  <matplotlib.axis.XTick at 0x16212fcb0>,\n",
       "  <matplotlib.axis.XTick at 0x16212ef00>],\n",
       " [Text(1, 0, '1'),\n",
       "  Text(2, 0, '2'),\n",
       "  Text(3, 0, '3'),\n",
       "  Text(4, 0, '4'),\n",
       "  Text(5, 0, '5'),\n",
       "  Text(6, 0, '6'),\n",
       "  Text(7, 0, '7'),\n",
       "  Text(8, 0, '8'),\n",
       "  Text(9, 0, '9'),\n",
       "  Text(10, 0, '10'),\n",
       "  Text(11, 0, '11'),\n",
       "  Text(12, 0, '12')])"
      ]
     },
     "execution_count": 31,
     "metadata": {},
     "output_type": "execute_result"
    },
    {
     "data": {
      "text/plain": [
       "<matplotlib.legend.Legend at 0x1620f3860>"
      ]
     },
     "execution_count": 31,
     "metadata": {},
     "output_type": "execute_result"
    },
    {
     "data": {
      "image/png": "[encoded data removed]",
      "text/plain": [
       "<Figure size 1200x800 with 1 Axes>"
      ]
     },
     "metadata": {},
     "output_type": "display_data"
    }
   ],
   "source": [
    "df_eda = df.copy()\n",
    "\n",
    "df_eda['month'] = df_eda['date'].dt.month\n",
    "df_eda['year'] = df_eda['date'].dt.year\n",
    "\n",
    "monthly_count = df_eda.groupby(['item_desc', 'year', 'month'], as_index = False).size().rename(columns = {'size' : 'purchase_count'})\n",
    "avg_monthly_count = monthly_count.groupby(['item_desc', 'month'], as_index = False)['purchase_count'].mean()\n",
    "\n",
    "seasonality_stats = avg_monthly_count.groupby('item_desc', as_index = False)['purchase_count'].agg(['mean', 'std'])\n",
    "seasonality_stats['cv'] = seasonality_stats['std'] / seasonality_stats['mean']\n",
    "\n",
    "# Top 5 Seasonal Products\n",
    "top_seasonal = seasonality_stats.sort_values('cv', ascending = False).head(5)\n",
    "top_seasonal\n",
    "\n",
    "plt.figure(figsize = (12,8))\n",
    "for product in top_seasonal['item_desc']:\n",
    "    subset = avg_monthly_count[avg_monthly_count['item_desc'] == product]\n",
    "    plt.plot(subset['month'], subset['purchase_count'], marker = 'o', label = product)\n",
    "\n",
    "plt.title('Top 5 Seasonal Product')\n",
    "plt.xlabel('Month')\n",
    "plt.ylabel('Avg Purchase')\n",
    "plt.xticks(range(1,13))\n",
    "plt.legend()\n",
    "plt.show()"
   ]
  },
  {
   "cell_type": "markdown",
   "id": "e1de94ad-2f3f-4045-b9ec-657216368ba7",
   "metadata": {},
   "source": [
    "**Observations from the Plot**\n",
    "\n",
    "1. Finished products\n",
    "    - Huge spike in June (Month 6) → strongly seasonal, maybe linked to summer demand or a festival.\n",
    "    - Smaller peaks again in November–December, possibly holiday-related.\n",
    "<br>\n",
    "2. Rum\n",
    "    - Noticeable rise around April–May and November.\n",
    "    - Suggests seasonal demand for celebrations/holidays.\n",
    "<br>\n",
    "3. Fish\n",
    "    - Peaks in August (Month 8).\n",
    "    - Could be tied to seasonal availability or regional festivals.\n",
    "<br>\n",
    "4. Organic sausage\n",
    "    - Peaks in June and December, which might indicate holiday/festive consumption.\n",
    "<br>\n",
    "5. Specialty fat\n",
    "    - Increases around May and September, with some spikes → possibly tied to cooking during festivals/occasions.\n",
    "<br>\n",
    "\n",
    "- These products are not stable staples (like milk or bread), but rather show strong spikes in certain months.\n",
    "- This means their demand is event/season driven.\n",
    "- Businesses can use this to:\n",
    "    - Plan inventory (stock more rum/fish before festive periods).\n",
    "    - Target promotions/ads before demand spikes.\n",
    "    - Bundle seasonal products with staples to boost sales."
   ]
  },
  {
   "cell_type": "markdown",
   "id": "7e074945-ac59-4a94-ac35-115bae968226",
   "metadata": {},
   "source": [
    "Which products are popular in specific months?"
   ]
  },
  {
   "cell_type": "code",
   "execution_count": 34,
   "id": "ca88d224-32ff-4a0c-818a-0d767afbb3d2",
   "metadata": {},
   "outputs": [
    {
     "data": {
      "text/plain": [
       "<Figure size 800x600 with 0 Axes>"
      ]
     },
     "execution_count": 34,
     "metadata": {},
     "output_type": "execute_result"
    },
    {
     "data": {
      "text/plain": [
       "Text(0.5, 0.5, 'rolls/buns\\n(87)')"
      ]
     },
     "execution_count": 34,
     "metadata": {},
     "output_type": "execute_result"
    },
    {
     "data": {
      "text/plain": [
       "Text(0.5, 1.5, 'other vegetables\\n(80)')"
      ]
     },
     "execution_count": 34,
     "metadata": {},
     "output_type": "execute_result"
    },
    {
     "data": {
      "text/plain": [
       "Text(0.5, 2.5, 'whole milk\\n(84)')"
      ]
     },
     "execution_count": 34,
     "metadata": {},
     "output_type": "execute_result"
    },
    {
     "data": {
      "text/plain": [
       "Text(0.5, 3.5, 'whole milk\\n(98)')"
      ]
     },
     "execution_count": 34,
     "metadata": {},
     "output_type": "execute_result"
    },
    {
     "data": {
      "text/plain": [
       "Text(0.5, 4.5, 'rolls/buns\\n(89)')"
      ]
     },
     "execution_count": 34,
     "metadata": {},
     "output_type": "execute_result"
    },
    {
     "data": {
      "text/plain": [
       "Text(0.5, 5.5, 'whole milk\\n(93)')"
      ]
     },
     "execution_count": 34,
     "metadata": {},
     "output_type": "execute_result"
    },
    {
     "data": {
      "text/plain": [
       "Text(0.5, 6.5, 'whole milk\\n(101)')"
      ]
     },
     "execution_count": 34,
     "metadata": {},
     "output_type": "execute_result"
    },
    {
     "data": {
      "text/plain": [
       "Text(0.5, 7.5, 'other vegetables\\n(91)')"
      ]
     },
     "execution_count": 34,
     "metadata": {},
     "output_type": "execute_result"
    },
    {
     "data": {
      "text/plain": [
       "Text(0.5, 8.5, 'whole milk\\n(89)')"
      ]
     },
     "execution_count": 34,
     "metadata": {},
     "output_type": "execute_result"
    },
    {
     "data": {
      "text/plain": [
       "Text(0.5, 9.5, 'rolls/buns\\n(95)')"
      ]
     },
     "execution_count": 34,
     "metadata": {},
     "output_type": "execute_result"
    },
    {
     "data": {
      "text/plain": [
       "Text(0.5, 10.5, 'whole milk\\n(88)')"
      ]
     },
     "execution_count": 34,
     "metadata": {},
     "output_type": "execute_result"
    },
    {
     "data": {
      "text/plain": [
       "Text(0.5, 11.5, 'whole milk\\n(83)')"
      ]
     },
     "execution_count": 34,
     "metadata": {},
     "output_type": "execute_result"
    },
    {
     "data": {
      "text/plain": [
       "Text(1.5, 0.5, 'whole milk\\n(119)')"
      ]
     },
     "execution_count": 34,
     "metadata": {},
     "output_type": "execute_result"
    },
    {
     "data": {
      "text/plain": [
       "Text(1.5, 1.5, 'whole milk\\n(115)')"
      ]
     },
     "execution_count": 34,
     "metadata": {},
     "output_type": "execute_result"
    },
    {
     "data": {
      "text/plain": [
       "Text(1.5, 2.5, 'whole milk\\n(123)')"
      ]
     },
     "execution_count": 34,
     "metadata": {},
     "output_type": "execute_result"
    },
    {
     "data": {
      "text/plain": [
       "Text(1.5, 3.5, 'whole milk\\n(136)')"
      ]
     },
     "execution_count": 34,
     "metadata": {},
     "output_type": "execute_result"
    },
    {
     "data": {
      "text/plain": [
       "Text(1.5, 4.5, 'whole milk\\n(128)')"
      ]
     },
     "execution_count": 34,
     "metadata": {},
     "output_type": "execute_result"
    },
    {
     "data": {
      "text/plain": [
       "Text(1.5, 5.5, 'whole milk\\n(107)')"
      ]
     },
     "execution_count": 34,
     "metadata": {},
     "output_type": "execute_result"
    },
    {
     "data": {
      "text/plain": [
       "Text(1.5, 6.5, 'whole milk\\n(109)')"
      ]
     },
     "execution_count": 34,
     "metadata": {},
     "output_type": "execute_result"
    },
    {
     "data": {
      "text/plain": [
       "Text(1.5, 7.5, 'whole milk\\n(145)')"
      ]
     },
     "execution_count": 34,
     "metadata": {},
     "output_type": "execute_result"
    },
    {
     "data": {
      "text/plain": [
       "Text(1.5, 8.5, 'whole milk\\n(124)')"
      ]
     },
     "execution_count": 34,
     "metadata": {},
     "output_type": "execute_result"
    },
    {
     "data": {
      "text/plain": [
       "Text(1.5, 9.5, 'whole milk\\n(112)')"
      ]
     },
     "execution_count": 34,
     "metadata": {},
     "output_type": "execute_result"
    },
    {
     "data": {
      "text/plain": [
       "Text(1.5, 10.5, 'whole milk\\n(140)')"
      ]
     },
     "execution_count": 34,
     "metadata": {},
     "output_type": "execute_result"
    },
    {
     "data": {
      "text/plain": [
       "Text(1.5, 11.5, 'whole milk\\n(106)')"
      ]
     },
     "execution_count": 34,
     "metadata": {},
     "output_type": "execute_result"
    },
    {
     "data": {
      "text/plain": [
       "Text(0.5, 1.0, 'Most Popular Product per Month (by Year)')"
      ]
     },
     "execution_count": 34,
     "metadata": {},
     "output_type": "execute_result"
    },
    {
     "data": {
      "text/plain": [
       "Text(70.72222222222221, 0.5, 'Month')"
      ]
     },
     "execution_count": 34,
     "metadata": {},
     "output_type": "execute_result"
    },
    {
     "data": {
      "text/plain": [
       "Text(0.5, 36.72222222222221, 'Year')"
      ]
     },
     "execution_count": 34,
     "metadata": {},
     "output_type": "execute_result"
    },
    {
     "data": {
      "image/png": "[encoded data removed]",
      "text/plain": [
       "<Figure size 800x600 with 2 Axes>"
      ]
     },
     "metadata": {},
     "output_type": "display_data"
    }
   ],
   "source": [
    "popular_df = df_eda.groupby(['year', 'month', 'item_desc'], as_index = False).size().\\\n",
    "rename(columns = {'size': 'count'}).sort_values(['year', 'month', 'count'], ascending = [True, True, False])\n",
    "\n",
    "monthly_popular = popular_df.groupby(['year', 'month']).head(1)\n",
    "\n",
    "# Pivot for heatmap: index=month, columns=year, values=count\n",
    "heatmap_counts = monthly_popular.pivot_table(\n",
    "    index=\"month\", columns=\"year\", values=\"count\", aggfunc=\"first\"\n",
    ")\n",
    "\n",
    "# Pivot for products\n",
    "heatmap_products = monthly_popular.pivot_table(\n",
    "    index=\"month\", columns=\"year\", values=\"item_desc\", aggfunc=\"first\"\n",
    ")\n",
    "\n",
    "plt.figure(figsize=(8,6))\n",
    "ax = sns.heatmap(\n",
    "    heatmap_counts, \n",
    "    annot=False, fmt=\"d\", cmap=\"YlGnBu\", \n",
    "    cbar_kws={'label': 'Purchase Count'}\n",
    ")\n",
    "\n",
    "# Convert index and columns to lists once\n",
    "months = heatmap_counts.index.tolist()\n",
    "years = heatmap_counts.columns.tolist()\n",
    "\n",
    "# Add product names as text inside the heatmap\n",
    "for y in years:\n",
    "    for m in months:\n",
    "        count_val = heatmap_counts.loc[m, y]\n",
    "        product = heatmap_products.loc[m, y]\n",
    "        if pd.notnull(count_val):\n",
    "            ax.text(\n",
    "                x=years.index(y) + 0.5,\n",
    "                y=months.index(m) + 0.5,\n",
    "                s=f\"{product}\\n({count_val})\",   # show both product + count\n",
    "                ha='center', va='center', fontsize=8, color=\"black\"\n",
    "            )\n",
    "\n",
    "plt.title(\"Most Popular Product per Month (by Year)\")\n",
    "plt.ylabel(\"Month\")\n",
    "plt.xlabel(\"Year\")\n",
    "plt.show()"
   ]
  },
  {
   "cell_type": "markdown",
   "id": "b001d3dc-e4e5-4bc5-b1b4-5d3650ff9cf6",
   "metadata": {},
   "source": [
    "- 2014: More variety in popular items — sometimes it’s rolls/buns (Jan, May, Oct), sometimes other vegetables (Feb, Aug), but whole milk dominates most months.\n",
    "- 2015: Whole milk takes over almost every single month — much more dominant compared to 2014."
   ]
  },
  {
   "cell_type": "code",
   "execution_count": 36,
   "id": "4d5603d8-c53a-4a91-a01b-28023c15f9a9",
   "metadata": {},
   "outputs": [
    {
     "data": {
      "text/plain": [
       "<Figure size 1000x600 with 0 Axes>"
      ]
     },
     "execution_count": 36,
     "metadata": {},
     "output_type": "execute_result"
    },
    {
     "data": {
      "text/plain": [
       "[<matplotlib.lines.Line2D at 0x16208a810>]"
      ]
     },
     "execution_count": 36,
     "metadata": {},
     "output_type": "execute_result"
    },
    {
     "data": {
      "text/plain": [
       "Text(0.5, 1.0, 'Number of Transactions by Month')"
      ]
     },
     "execution_count": 36,
     "metadata": {},
     "output_type": "execute_result"
    },
    {
     "data": {
      "text/plain": [
       "Text(0.5, 0, 'Month')"
      ]
     },
     "execution_count": 36,
     "metadata": {},
     "output_type": "execute_result"
    },
    {
     "data": {
      "text/plain": [
       "Text(0, 0.5, 'Number of Transactions')"
      ]
     },
     "execution_count": 36,
     "metadata": {},
     "output_type": "execute_result"
    },
    {
     "data": {
      "text/plain": [
       "([0,\n",
       "  1,\n",
       "  2,\n",
       "  3,\n",
       "  4,\n",
       "  5,\n",
       "  6,\n",
       "  7,\n",
       "  8,\n",
       "  9,\n",
       "  10,\n",
       "  11,\n",
       "  12,\n",
       "  13,\n",
       "  14,\n",
       "  15,\n",
       "  16,\n",
       "  17,\n",
       "  18,\n",
       "  19,\n",
       "  20,\n",
       "  21,\n",
       "  22,\n",
       "  23],\n",
       " [Text(0, 0, '2014-01'),\n",
       "  Text(1, 0, '2014-02'),\n",
       "  Text(2, 0, '2014-03'),\n",
       "  Text(3, 0, '2014-04'),\n",
       "  Text(4, 0, '2014-05'),\n",
       "  Text(5, 0, '2014-06'),\n",
       "  Text(6, 0, '2014-07'),\n",
       "  Text(7, 0, '2014-08'),\n",
       "  Text(8, 0, '2014-09'),\n",
       "  Text(9, 0, '2014-10'),\n",
       "  Text(10, 0, '2014-11'),\n",
       "  Text(11, 0, '2014-12'),\n",
       "  Text(12, 0, '2015-01'),\n",
       "  Text(13, 0, '2015-02'),\n",
       "  Text(14, 0, '2015-03'),\n",
       "  Text(15, 0, '2015-04'),\n",
       "  Text(16, 0, '2015-05'),\n",
       "  Text(17, 0, '2015-06'),\n",
       "  Text(18, 0, '2015-07'),\n",
       "  Text(19, 0, '2015-08'),\n",
       "  Text(20, 0, '2015-09'),\n",
       "  Text(21, 0, '2015-10'),\n",
       "  Text(22, 0, '2015-11'),\n",
       "  Text(23, 0, '2015-12')])"
      ]
     },
     "execution_count": 36,
     "metadata": {},
     "output_type": "execute_result"
    },
    {
     "data": {
      "image/png": "[encoded data removed]",
      "text/plain": [
       "<Figure size 1000x600 with 1 Axes>"
      ]
     },
     "metadata": {},
     "output_type": "display_data"
    }
   ],
   "source": [
    "transactions = df[['customer_id', 'date']]\n",
    "transactions['year_month'] = transactions['date'].dt.to_period('M')\n",
    "transactions_per_month = transactions.groupby('year_month')['customer_id'].count().reset_index(name='num_transactions')\n",
    "\n",
    "# Plot\n",
    "plt.figure(figsize=(10,6))\n",
    "plt.plot(transactions_per_month['year_month'].astype(str), transactions_per_month['num_transactions'], marker='o', linestyle='-')\n",
    "plt.title(\"Number of Transactions by Month\")\n",
    "plt.xlabel(\"Month\")\n",
    "plt.ylabel(\"Number of Transactions\")\n",
    "plt.xticks(rotation=45)\n",
    "plt.show()"
   ]
  },
  {
   "cell_type": "markdown",
   "id": "557c8a71-d0b9-426c-8d47-7148f0b26619",
   "metadata": {},
   "source": [
    "### Model Development"
   ]
  },
  {
   "cell_type": "markdown",
   "id": "59d59573-a45b-4dfe-bf81-d01c7981307d",
   "metadata": {},
   "source": [
    "#### **Market Basket Analysis (M.B.A.)**"
   ]
  },
  {
   "cell_type": "markdown",
   "id": "2632f564-296b-4afe-b68c-7b4893e457f0",
   "metadata": {},
   "source": [
    "The Market Basket Analysis provides an answer to the question: How likely it is that a customer will buy product A if he/she already has product B in their shopping cart.\n",
    "\n",
    "**Association Rule**\n",
    "\n",
    "LHS --> RHS\n",
    "\n",
    "Association rules are in the form if the product under LHS are present in a transaction then products under RHS are also present with some probability.\n",
    "\n",
    "**Frequency**\n",
    "\n",
    "frq(LHS, RHS)\n",
    "\n",
    "Frequency tells us how often the products on the LHS and RHS occur in a transaction together.\n",
    "\n",
    "**Support**\n",
    "\n",
    "frq(LHS, RHS) / N\n",
    "\n",
    "Where N --> Total number of transactions\n",
    "\n",
    "Support tells us what percentage of all transactions that is or in other words how likely it is that LHS and RHS occur in a transaction.\n",
    "\n",
    "**Confidence**\n",
    "\n",
    "frq(LHS, RHS) / frq(LHS)\n",
    "\n",
    "Confidence tells us if the products on the LHS occur in an order how likely it is that the products on the RHS are then also in the shopping cart.\n",
    "\n",
    "**Lift**\n",
    "\n",
    "Confidence(LHS, RHS) / support(RHS)\n",
    "\n",
    "Lift indicates the factor by which the probability of buying the products on the RHS increases if the product on the LHS have already been bought."
   ]
  },
  {
   "cell_type": "code",
   "execution_count": 40,
   "id": "3805c60f-8020-47d0-a31a-5b2f3375b347",
   "metadata": {},
   "outputs": [
    {
     "data": {
      "text/html": [
       "<div>\n",
       "<style scoped>\n",
       "    .dataframe tbody tr th:only-of-type {\n",
       "        vertical-align: middle;\n",
       "    }\n",
       "\n",
       "    .dataframe tbody tr th {\n",
       "        vertical-align: top;\n",
       "    }\n",
       "\n",
       "    .dataframe thead th {\n",
       "        text-align: right;\n",
       "    }\n",
       "</style>\n",
       "<table border=\"1\" class=\"dataframe\">\n",
       "  <thead>\n",
       "    <tr style=\"text-align: right;\">\n",
       "      <th>item_desc</th>\n",
       "      <th>Instant food products</th>\n",
       "      <th>UHT-milk</th>\n",
       "      <th>abrasive cleaner</th>\n",
       "      <th>artif. sweetener</th>\n",
       "      <th>baby cosmetics</th>\n",
       "      <th>bags</th>\n",
       "      <th>baking powder</th>\n",
       "      <th>bathroom cleaner</th>\n",
       "      <th>beef</th>\n",
       "      <th>berries</th>\n",
       "      <th>...</th>\n",
       "      <th>turkey</th>\n",
       "      <th>vinegar</th>\n",
       "      <th>waffles</th>\n",
       "      <th>whipped/sour cream</th>\n",
       "      <th>whisky</th>\n",
       "      <th>white bread</th>\n",
       "      <th>white wine</th>\n",
       "      <th>whole milk</th>\n",
       "      <th>yogurt</th>\n",
       "      <th>zwieback</th>\n",
       "    </tr>\n",
       "    <tr>\n",
       "      <th>basket_id</th>\n",
       "      <th></th>\n",
       "      <th></th>\n",
       "      <th></th>\n",
       "      <th></th>\n",
       "      <th></th>\n",
       "      <th></th>\n",
       "      <th></th>\n",
       "      <th></th>\n",
       "      <th></th>\n",
       "      <th></th>\n",
       "      <th></th>\n",
       "      <th></th>\n",
       "      <th></th>\n",
       "      <th></th>\n",
       "      <th></th>\n",
       "      <th></th>\n",
       "      <th></th>\n",
       "      <th></th>\n",
       "      <th></th>\n",
       "      <th></th>\n",
       "      <th></th>\n",
       "    </tr>\n",
       "  </thead>\n",
       "  <tbody>\n",
       "    <tr>\n",
       "      <th>1000_2014-06-24</th>\n",
       "      <td>0</td>\n",
       "      <td>0</td>\n",
       "      <td>0</td>\n",
       "      <td>0</td>\n",
       "      <td>0</td>\n",
       "      <td>0</td>\n",
       "      <td>0</td>\n",
       "      <td>0</td>\n",
       "      <td>0</td>\n",
       "      <td>0</td>\n",
       "      <td>...</td>\n",
       "      <td>0</td>\n",
       "      <td>0</td>\n",
       "      <td>0</td>\n",
       "      <td>0</td>\n",
       "      <td>0</td>\n",
       "      <td>0</td>\n",
       "      <td>0</td>\n",
       "      <td>1</td>\n",
       "      <td>0</td>\n",
       "      <td>0</td>\n",
       "    </tr>\n",
       "    <tr>\n",
       "      <th>1000_2015-03-15</th>\n",
       "      <td>0</td>\n",
       "      <td>0</td>\n",
       "      <td>0</td>\n",
       "      <td>0</td>\n",
       "      <td>0</td>\n",
       "      <td>0</td>\n",
       "      <td>0</td>\n",
       "      <td>0</td>\n",
       "      <td>0</td>\n",
       "      <td>0</td>\n",
       "      <td>...</td>\n",
       "      <td>0</td>\n",
       "      <td>0</td>\n",
       "      <td>0</td>\n",
       "      <td>0</td>\n",
       "      <td>0</td>\n",
       "      <td>0</td>\n",
       "      <td>0</td>\n",
       "      <td>1</td>\n",
       "      <td>1</td>\n",
       "      <td>0</td>\n",
       "    </tr>\n",
       "    <tr>\n",
       "      <th>1000_2015-05-27</th>\n",
       "      <td>0</td>\n",
       "      <td>0</td>\n",
       "      <td>0</td>\n",
       "      <td>0</td>\n",
       "      <td>0</td>\n",
       "      <td>0</td>\n",
       "      <td>0</td>\n",
       "      <td>0</td>\n",
       "      <td>0</td>\n",
       "      <td>0</td>\n",
       "      <td>...</td>\n",
       "      <td>0</td>\n",
       "      <td>0</td>\n",
       "      <td>0</td>\n",
       "      <td>0</td>\n",
       "      <td>0</td>\n",
       "      <td>0</td>\n",
       "      <td>0</td>\n",
       "      <td>0</td>\n",
       "      <td>0</td>\n",
       "      <td>0</td>\n",
       "    </tr>\n",
       "    <tr>\n",
       "      <th>1000_2015-07-24</th>\n",
       "      <td>0</td>\n",
       "      <td>0</td>\n",
       "      <td>0</td>\n",
       "      <td>0</td>\n",
       "      <td>0</td>\n",
       "      <td>0</td>\n",
       "      <td>0</td>\n",
       "      <td>0</td>\n",
       "      <td>0</td>\n",
       "      <td>0</td>\n",
       "      <td>...</td>\n",
       "      <td>0</td>\n",
       "      <td>0</td>\n",
       "      <td>0</td>\n",
       "      <td>0</td>\n",
       "      <td>0</td>\n",
       "      <td>0</td>\n",
       "      <td>0</td>\n",
       "      <td>0</td>\n",
       "      <td>0</td>\n",
       "      <td>0</td>\n",
       "    </tr>\n",
       "    <tr>\n",
       "      <th>1000_2015-11-25</th>\n",
       "      <td>0</td>\n",
       "      <td>0</td>\n",
       "      <td>0</td>\n",
       "      <td>0</td>\n",
       "      <td>0</td>\n",
       "      <td>0</td>\n",
       "      <td>0</td>\n",
       "      <td>0</td>\n",
       "      <td>0</td>\n",
       "      <td>0</td>\n",
       "      <td>...</td>\n",
       "      <td>0</td>\n",
       "      <td>0</td>\n",
       "      <td>0</td>\n",
       "      <td>0</td>\n",
       "      <td>0</td>\n",
       "      <td>0</td>\n",
       "      <td>0</td>\n",
       "      <td>0</td>\n",
       "      <td>0</td>\n",
       "      <td>0</td>\n",
       "    </tr>\n",
       "    <tr>\n",
       "      <th>1001_2014-02-07</th>\n",
       "      <td>0</td>\n",
       "      <td>0</td>\n",
       "      <td>0</td>\n",
       "      <td>0</td>\n",
       "      <td>0</td>\n",
       "      <td>0</td>\n",
       "      <td>0</td>\n",
       "      <td>0</td>\n",
       "      <td>0</td>\n",
       "      <td>0</td>\n",
       "      <td>...</td>\n",
       "      <td>0</td>\n",
       "      <td>0</td>\n",
       "      <td>0</td>\n",
       "      <td>0</td>\n",
       "      <td>0</td>\n",
       "      <td>0</td>\n",
       "      <td>0</td>\n",
       "      <td>1</td>\n",
       "      <td>0</td>\n",
       "      <td>0</td>\n",
       "    </tr>\n",
       "    <tr>\n",
       "      <th>1001_2014-12-12</th>\n",
       "      <td>0</td>\n",
       "      <td>0</td>\n",
       "      <td>0</td>\n",
       "      <td>0</td>\n",
       "      <td>0</td>\n",
       "      <td>0</td>\n",
       "      <td>0</td>\n",
       "      <td>0</td>\n",
       "      <td>0</td>\n",
       "      <td>0</td>\n",
       "      <td>...</td>\n",
       "      <td>0</td>\n",
       "      <td>0</td>\n",
       "      <td>0</td>\n",
       "      <td>0</td>\n",
       "      <td>0</td>\n",
       "      <td>0</td>\n",
       "      <td>0</td>\n",
       "      <td>1</td>\n",
       "      <td>0</td>\n",
       "      <td>0</td>\n",
       "    </tr>\n",
       "    <tr>\n",
       "      <th>1001_2015-01-20</th>\n",
       "      <td>0</td>\n",
       "      <td>0</td>\n",
       "      <td>0</td>\n",
       "      <td>0</td>\n",
       "      <td>0</td>\n",
       "      <td>0</td>\n",
       "      <td>0</td>\n",
       "      <td>0</td>\n",
       "      <td>0</td>\n",
       "      <td>0</td>\n",
       "      <td>...</td>\n",
       "      <td>0</td>\n",
       "      <td>0</td>\n",
       "      <td>0</td>\n",
       "      <td>1</td>\n",
       "      <td>0</td>\n",
       "      <td>0</td>\n",
       "      <td>0</td>\n",
       "      <td>0</td>\n",
       "      <td>0</td>\n",
       "      <td>0</td>\n",
       "    </tr>\n",
       "    <tr>\n",
       "      <th>1001_2015-04-14</th>\n",
       "      <td>0</td>\n",
       "      <td>0</td>\n",
       "      <td>0</td>\n",
       "      <td>0</td>\n",
       "      <td>0</td>\n",
       "      <td>0</td>\n",
       "      <td>0</td>\n",
       "      <td>0</td>\n",
       "      <td>1</td>\n",
       "      <td>0</td>\n",
       "      <td>...</td>\n",
       "      <td>0</td>\n",
       "      <td>0</td>\n",
       "      <td>0</td>\n",
       "      <td>0</td>\n",
       "      <td>0</td>\n",
       "      <td>1</td>\n",
       "      <td>0</td>\n",
       "      <td>0</td>\n",
       "      <td>0</td>\n",
       "      <td>0</td>\n",
       "    </tr>\n",
       "    <tr>\n",
       "      <th>1001_2015-05-02</th>\n",
       "      <td>0</td>\n",
       "      <td>0</td>\n",
       "      <td>0</td>\n",
       "      <td>0</td>\n",
       "      <td>0</td>\n",
       "      <td>0</td>\n",
       "      <td>0</td>\n",
       "      <td>0</td>\n",
       "      <td>0</td>\n",
       "      <td>0</td>\n",
       "      <td>...</td>\n",
       "      <td>0</td>\n",
       "      <td>0</td>\n",
       "      <td>0</td>\n",
       "      <td>0</td>\n",
       "      <td>0</td>\n",
       "      <td>0</td>\n",
       "      <td>0</td>\n",
       "      <td>0</td>\n",
       "      <td>0</td>\n",
       "      <td>0</td>\n",
       "    </tr>\n",
       "  </tbody>\n",
       "</table>\n",
       "<p>10 rows × 167 columns</p>\n",
       "</div>"
      ],
      "text/plain": [
       "item_desc        Instant food products  UHT-milk  abrasive cleaner  \\\n",
       "basket_id                                                            \n",
       "1000_2014-06-24                      0         0                 0   \n",
       "1000_2015-03-15                      0         0                 0   \n",
       "1000_2015-05-27                      0         0                 0   \n",
       "1000_2015-07-24                      0         0                 0   \n",
       "1000_2015-11-25                      0         0                 0   \n",
       "1001_2014-02-07                      0         0                 0   \n",
       "1001_2014-12-12                      0         0                 0   \n",
       "1001_2015-01-20                      0         0                 0   \n",
       "1001_2015-04-14                      0         0                 0   \n",
       "1001_2015-05-02                      0         0                 0   \n",
       "\n",
       "item_desc        artif. sweetener  baby cosmetics  bags  baking powder  \\\n",
       "basket_id                                                                \n",
       "1000_2014-06-24                 0               0     0              0   \n",
       "1000_2015-03-15                 0               0     0              0   \n",
       "1000_2015-05-27                 0               0     0              0   \n",
       "1000_2015-07-24                 0               0     0              0   \n",
       "1000_2015-11-25                 0               0     0              0   \n",
       "1001_2014-02-07                 0               0     0              0   \n",
       "1001_2014-12-12                 0               0     0              0   \n",
       "1001_2015-01-20                 0               0     0              0   \n",
       "1001_2015-04-14                 0               0     0              0   \n",
       "1001_2015-05-02                 0               0     0              0   \n",
       "\n",
       "item_desc        bathroom cleaner  beef  berries  ...  turkey  vinegar  \\\n",
       "basket_id                                         ...                    \n",
       "1000_2014-06-24                 0     0        0  ...       0        0   \n",
       "1000_2015-03-15                 0     0        0  ...       0        0   \n",
       "1000_2015-05-27                 0     0        0  ...       0        0   \n",
       "1000_2015-07-24                 0     0        0  ...       0        0   \n",
       "1000_2015-11-25                 0     0        0  ...       0        0   \n",
       "1001_2014-02-07                 0     0        0  ...       0        0   \n",
       "1001_2014-12-12                 0     0        0  ...       0        0   \n",
       "1001_2015-01-20                 0     0        0  ...       0        0   \n",
       "1001_2015-04-14                 0     1        0  ...       0        0   \n",
       "1001_2015-05-02                 0     0        0  ...       0        0   \n",
       "\n",
       "item_desc        waffles  whipped/sour cream  whisky  white bread  white wine  \\\n",
       "basket_id                                                                       \n",
       "1000_2014-06-24        0                   0       0            0           0   \n",
       "1000_2015-03-15        0                   0       0            0           0   \n",
       "1000_2015-05-27        0                   0       0            0           0   \n",
       "1000_2015-07-24        0                   0       0            0           0   \n",
       "1000_2015-11-25        0                   0       0            0           0   \n",
       "1001_2014-02-07        0                   0       0            0           0   \n",
       "1001_2014-12-12        0                   0       0            0           0   \n",
       "1001_2015-01-20        0                   1       0            0           0   \n",
       "1001_2015-04-14        0                   0       0            1           0   \n",
       "1001_2015-05-02        0                   0       0            0           0   \n",
       "\n",
       "item_desc        whole milk  yogurt  zwieback  \n",
       "basket_id                                      \n",
       "1000_2014-06-24           1       0         0  \n",
       "1000_2015-03-15           1       1         0  \n",
       "1000_2015-05-27           0       0         0  \n",
       "1000_2015-07-24           0       0         0  \n",
       "1000_2015-11-25           0       0         0  \n",
       "1001_2014-02-07           1       0         0  \n",
       "1001_2014-12-12           1       0         0  \n",
       "1001_2015-01-20           0       0         0  \n",
       "1001_2015-04-14           0       0         0  \n",
       "1001_2015-05-02           0       0         0  \n",
       "\n",
       "[10 rows x 167 columns]"
      ]
     },
     "execution_count": 40,
     "metadata": {},
     "output_type": "execute_result"
    }
   ],
   "source": [
    "# Define Basket\n",
    "df['basket_id'] = df['customer_id'].astype(str) + \"_\" + df['date'].astype(str)\n",
    "\n",
    "# Convert into Basket-Item Matrix\n",
    "basket = df.groupby(['basket_id', 'item_desc']).size().unstack(fill_value = 0)\n",
    "\n",
    "# Convert counts to 1/0 (Present / Not Present)\n",
    "basket = basket.applymap(lambda x: 1 if x > 0 else 0)\n",
    "\n",
    "# Print the Result\n",
    "basket.head(10)"
   ]
  },
  {
   "cell_type": "code",
   "execution_count": 41,
   "id": "6aed740e-c341-48f6-bd9b-96664f6ef789",
   "metadata": {},
   "outputs": [
    {
     "name": "stderr",
     "output_type": "stream",
     "text": [
      "/Applications/anaconda3/lib/python3.12/site-packages/mlxtend/frequent_patterns/fpcommon.py:161: DeprecationWarning: DataFrames with non-bool types result in worse computationalperformance and their support might be discontinued in the future.Please use a DataFrame with bool type\n",
      "  warnings.warn(\n"
     ]
    },
    {
     "name": "stdout",
     "output_type": "stream",
     "text": [
      "Multi-item frequent sets:\n",
      "      support                          itemsets\n",
      "126  0.002139      (UHT-milk, other vegetables)\n",
      "127  0.002540            (whole milk, UHT-milk)\n",
      "128  0.002807          (beef, other vegetables)\n",
      "129  0.004678                (beef, whole milk)\n",
      "130  0.002205                    (beef, yogurt)\n",
      "..        ...                               ...\n",
      "325  0.002606             (whole milk, waffles)\n",
      "326  0.004611  (whole milk, whipped/sour cream)\n",
      "327  0.002941      (yogurt, whipped/sour cream)\n",
      "328  0.003141         (whole milk, white bread)\n",
      "329  0.011161              (yogurt, whole milk)\n",
      "\n",
      "[204 rows x 2 columns]\n"
     ]
    }
   ],
   "source": [
    "# Frequent Itemsets using Apriori\n",
    "frequent_itemsets = apriori(basket, min_support = 0.002, use_colnames = True)\n",
    "\n",
    "# Only check combinations of 2+ items\n",
    "print(\"Multi-item frequent sets:\")\n",
    "print(frequent_itemsets[frequent_itemsets['itemsets'].apply(lambda x: len(x) > 1)])"
   ]
  },
  {
   "cell_type": "code",
   "execution_count": 42,
   "id": "30b37879-8511-462f-a6bf-e2ac1b6bdae2",
   "metadata": {},
   "outputs": [],
   "source": [
    "# Generate Association Rules\n",
    "rules = association_rules(frequent_itemsets, metric = \"confidence\", min_threshold = 0.02)\n",
    "\n",
    "# Sort by Lift\n",
    "rules = rules.sort_values(\"lift\", ascending = False)\n",
    "\n",
    "# Print Association Rules\n",
    "rules = rules[['antecedents', 'consequents', 'support', 'confidence', 'lift']]"
   ]
  },
  {
   "cell_type": "code",
   "execution_count": 43,
   "id": "5cfec224-a687-4d2a-97f4-d88fa113d376",
   "metadata": {},
   "outputs": [
    {
     "data": {
      "text/html": [
       "<div>\n",
       "<style scoped>\n",
       "    .dataframe tbody tr th:only-of-type {\n",
       "        vertical-align: middle;\n",
       "    }\n",
       "\n",
       "    .dataframe tbody tr th {\n",
       "        vertical-align: top;\n",
       "    }\n",
       "\n",
       "    .dataframe thead th {\n",
       "        text-align: right;\n",
       "    }\n",
       "</style>\n",
       "<table border=\"1\" class=\"dataframe\">\n",
       "  <thead>\n",
       "    <tr style=\"text-align: right;\">\n",
       "      <th></th>\n",
       "      <th>antecedents</th>\n",
       "      <th>consequents</th>\n",
       "      <th>support</th>\n",
       "      <th>confidence</th>\n",
       "      <th>lift</th>\n",
       "    </tr>\n",
       "  </thead>\n",
       "  <tbody>\n",
       "    <tr>\n",
       "      <th>148</th>\n",
       "      <td>(curd)</td>\n",
       "      <td>(sausage)</td>\n",
       "      <td>0.002941</td>\n",
       "      <td>0.087302</td>\n",
       "      <td>1.446615</td>\n",
       "    </tr>\n",
       "    <tr>\n",
       "      <th>149</th>\n",
       "      <td>(sausage)</td>\n",
       "      <td>(curd)</td>\n",
       "      <td>0.002941</td>\n",
       "      <td>0.048726</td>\n",
       "      <td>1.446615</td>\n",
       "    </tr>\n",
       "    <tr>\n",
       "      <th>60</th>\n",
       "      <td>(brown bread)</td>\n",
       "      <td>(canned beer)</td>\n",
       "      <td>0.002406</td>\n",
       "      <td>0.063943</td>\n",
       "      <td>1.362937</td>\n",
       "    </tr>\n",
       "    <tr>\n",
       "      <th>59</th>\n",
       "      <td>(canned beer)</td>\n",
       "      <td>(brown bread)</td>\n",
       "      <td>0.002406</td>\n",
       "      <td>0.051282</td>\n",
       "      <td>1.362937</td>\n",
       "    </tr>\n",
       "    <tr>\n",
       "      <th>193</th>\n",
       "      <td>(sausage)</td>\n",
       "      <td>(frozen vegetables)</td>\n",
       "      <td>0.002072</td>\n",
       "      <td>0.034330</td>\n",
       "      <td>1.225966</td>\n",
       "    </tr>\n",
       "    <tr>\n",
       "      <th>192</th>\n",
       "      <td>(frozen vegetables)</td>\n",
       "      <td>(sausage)</td>\n",
       "      <td>0.002072</td>\n",
       "      <td>0.073986</td>\n",
       "      <td>1.225966</td>\n",
       "    </tr>\n",
       "    <tr>\n",
       "      <th>21</th>\n",
       "      <td>(bottled beer)</td>\n",
       "      <td>(sausage)</td>\n",
       "      <td>0.003342</td>\n",
       "      <td>0.073746</td>\n",
       "      <td>1.222000</td>\n",
       "    </tr>\n",
       "    <tr>\n",
       "      <th>22</th>\n",
       "      <td>(sausage)</td>\n",
       "      <td>(bottled beer)</td>\n",
       "      <td>0.003342</td>\n",
       "      <td>0.055371</td>\n",
       "      <td>1.222000</td>\n",
       "    </tr>\n",
       "    <tr>\n",
       "      <th>174</th>\n",
       "      <td>(frankfurter)</td>\n",
       "      <td>(other vegetables)</td>\n",
       "      <td>0.005146</td>\n",
       "      <td>0.136283</td>\n",
       "      <td>1.116150</td>\n",
       "    </tr>\n",
       "    <tr>\n",
       "      <th>173</th>\n",
       "      <td>(other vegetables)</td>\n",
       "      <td>(frankfurter)</td>\n",
       "      <td>0.005146</td>\n",
       "      <td>0.042146</td>\n",
       "      <td>1.116150</td>\n",
       "    </tr>\n",
       "    <tr>\n",
       "      <th>349</th>\n",
       "      <td>(yogurt)</td>\n",
       "      <td>(sausage)</td>\n",
       "      <td>0.005748</td>\n",
       "      <td>0.066926</td>\n",
       "      <td>1.108986</td>\n",
       "    </tr>\n",
       "    <tr>\n",
       "      <th>350</th>\n",
       "      <td>(sausage)</td>\n",
       "      <td>(yogurt)</td>\n",
       "      <td>0.005748</td>\n",
       "      <td>0.095238</td>\n",
       "      <td>1.108986</td>\n",
       "    </tr>\n",
       "    <tr>\n",
       "      <th>190</th>\n",
       "      <td>(frozen vegetables)</td>\n",
       "      <td>(root vegetables)</td>\n",
       "      <td>0.002139</td>\n",
       "      <td>0.076372</td>\n",
       "      <td>1.097751</td>\n",
       "    </tr>\n",
       "    <tr>\n",
       "      <th>191</th>\n",
       "      <td>(root vegetables)</td>\n",
       "      <td>(frozen vegetables)</td>\n",
       "      <td>0.002139</td>\n",
       "      <td>0.030740</td>\n",
       "      <td>1.097751</td>\n",
       "    </tr>\n",
       "    <tr>\n",
       "      <th>109</th>\n",
       "      <td>(rolls/buns)</td>\n",
       "      <td>(chocolate)</td>\n",
       "      <td>0.002807</td>\n",
       "      <td>0.025516</td>\n",
       "      <td>1.081592</td>\n",
       "    </tr>\n",
       "    <tr>\n",
       "      <th>110</th>\n",
       "      <td>(chocolate)</td>\n",
       "      <td>(rolls/buns)</td>\n",
       "      <td>0.002807</td>\n",
       "      <td>0.118980</td>\n",
       "      <td>1.081592</td>\n",
       "    </tr>\n",
       "    <tr>\n",
       "      <th>185</th>\n",
       "      <td>(frozen meals)</td>\n",
       "      <td>(other vegetables)</td>\n",
       "      <td>0.002139</td>\n",
       "      <td>0.127490</td>\n",
       "      <td>1.044134</td>\n",
       "    </tr>\n",
       "    <tr>\n",
       "      <th>226</th>\n",
       "      <td>(meat)</td>\n",
       "      <td>(other vegetables)</td>\n",
       "      <td>0.002139</td>\n",
       "      <td>0.126984</td>\n",
       "      <td>1.039991</td>\n",
       "    </tr>\n",
       "    <tr>\n",
       "      <th>63</th>\n",
       "      <td>(pastry)</td>\n",
       "      <td>(brown bread)</td>\n",
       "      <td>0.002005</td>\n",
       "      <td>0.038760</td>\n",
       "      <td>1.030127</td>\n",
       "    </tr>\n",
       "    <tr>\n",
       "      <th>64</th>\n",
       "      <td>(brown bread)</td>\n",
       "      <td>(pastry)</td>\n",
       "      <td>0.002005</td>\n",
       "      <td>0.053286</td>\n",
       "      <td>1.030127</td>\n",
       "    </tr>\n",
       "    <tr>\n",
       "      <th>279</th>\n",
       "      <td>(sausage)</td>\n",
       "      <td>(pastry)</td>\n",
       "      <td>0.003208</td>\n",
       "      <td>0.053156</td>\n",
       "      <td>1.027617</td>\n",
       "    </tr>\n",
       "    <tr>\n",
       "      <th>278</th>\n",
       "      <td>(pastry)</td>\n",
       "      <td>(sausage)</td>\n",
       "      <td>0.003208</td>\n",
       "      <td>0.062016</td>\n",
       "      <td>1.027617</td>\n",
       "    </tr>\n",
       "    <tr>\n",
       "      <th>342</th>\n",
       "      <td>(soda)</td>\n",
       "      <td>(sausage)</td>\n",
       "      <td>0.005948</td>\n",
       "      <td>0.061253</td>\n",
       "      <td>1.014975</td>\n",
       "    </tr>\n",
       "    <tr>\n",
       "      <th>341</th>\n",
       "      <td>(sausage)</td>\n",
       "      <td>(soda)</td>\n",
       "      <td>0.005948</td>\n",
       "      <td>0.098560</td>\n",
       "      <td>1.014975</td>\n",
       "    </tr>\n",
       "    <tr>\n",
       "      <th>212</th>\n",
       "      <td>(ham)</td>\n",
       "      <td>(whole milk)</td>\n",
       "      <td>0.002740</td>\n",
       "      <td>0.160156</td>\n",
       "      <td>1.014142</td>\n",
       "    </tr>\n",
       "    <tr>\n",
       "      <th>128</th>\n",
       "      <td>(yogurt)</td>\n",
       "      <td>(citrus fruit)</td>\n",
       "      <td>0.004611</td>\n",
       "      <td>0.053696</td>\n",
       "      <td>1.010642</td>\n",
       "    </tr>\n",
       "    <tr>\n",
       "      <th>129</th>\n",
       "      <td>(citrus fruit)</td>\n",
       "      <td>(yogurt)</td>\n",
       "      <td>0.004611</td>\n",
       "      <td>0.086792</td>\n",
       "      <td>1.010642</td>\n",
       "    </tr>\n",
       "    <tr>\n",
       "      <th>330</th>\n",
       "      <td>(root vegetables)</td>\n",
       "      <td>(shopping bags)</td>\n",
       "      <td>0.003342</td>\n",
       "      <td>0.048031</td>\n",
       "      <td>1.009388</td>\n",
       "    </tr>\n",
       "    <tr>\n",
       "      <th>329</th>\n",
       "      <td>(shopping bags)</td>\n",
       "      <td>(root vegetables)</td>\n",
       "      <td>0.003342</td>\n",
       "      <td>0.070225</td>\n",
       "      <td>1.009388</td>\n",
       "    </tr>\n",
       "    <tr>\n",
       "      <th>8</th>\n",
       "      <td>(berries)</td>\n",
       "      <td>(other vegetables)</td>\n",
       "      <td>0.002673</td>\n",
       "      <td>0.122699</td>\n",
       "      <td>1.004899</td>\n",
       "    </tr>\n",
       "    <tr>\n",
       "      <th>9</th>\n",
       "      <td>(other vegetables)</td>\n",
       "      <td>(berries)</td>\n",
       "      <td>0.002673</td>\n",
       "      <td>0.021894</td>\n",
       "      <td>1.004899</td>\n",
       "    </tr>\n",
       "    <tr>\n",
       "      <th>202</th>\n",
       "      <td>(fruit/vegetable juice)</td>\n",
       "      <td>(rolls/buns)</td>\n",
       "      <td>0.003743</td>\n",
       "      <td>0.110020</td>\n",
       "      <td>1.000136</td>\n",
       "    </tr>\n",
       "    <tr>\n",
       "      <th>203</th>\n",
       "      <td>(rolls/buns)</td>\n",
       "      <td>(fruit/vegetable juice)</td>\n",
       "      <td>0.003743</td>\n",
       "      <td>0.034022</td>\n",
       "      <td>1.000136</td>\n",
       "    </tr>\n",
       "  </tbody>\n",
       "</table>\n",
       "</div>"
      ],
      "text/plain": [
       "                 antecedents              consequents   support  confidence  \\\n",
       "148                   (curd)                (sausage)  0.002941    0.087302   \n",
       "149                (sausage)                   (curd)  0.002941    0.048726   \n",
       "60             (brown bread)            (canned beer)  0.002406    0.063943   \n",
       "59             (canned beer)            (brown bread)  0.002406    0.051282   \n",
       "193                (sausage)      (frozen vegetables)  0.002072    0.034330   \n",
       "192      (frozen vegetables)                (sausage)  0.002072    0.073986   \n",
       "21            (bottled beer)                (sausage)  0.003342    0.073746   \n",
       "22                 (sausage)           (bottled beer)  0.003342    0.055371   \n",
       "174            (frankfurter)       (other vegetables)  0.005146    0.136283   \n",
       "173       (other vegetables)            (frankfurter)  0.005146    0.042146   \n",
       "349                 (yogurt)                (sausage)  0.005748    0.066926   \n",
       "350                (sausage)                 (yogurt)  0.005748    0.095238   \n",
       "190      (frozen vegetables)        (root vegetables)  0.002139    0.076372   \n",
       "191        (root vegetables)      (frozen vegetables)  0.002139    0.030740   \n",
       "109             (rolls/buns)              (chocolate)  0.002807    0.025516   \n",
       "110              (chocolate)             (rolls/buns)  0.002807    0.118980   \n",
       "185           (frozen meals)       (other vegetables)  0.002139    0.127490   \n",
       "226                   (meat)       (other vegetables)  0.002139    0.126984   \n",
       "63                  (pastry)            (brown bread)  0.002005    0.038760   \n",
       "64             (brown bread)                 (pastry)  0.002005    0.053286   \n",
       "279                (sausage)                 (pastry)  0.003208    0.053156   \n",
       "278                 (pastry)                (sausage)  0.003208    0.062016   \n",
       "342                   (soda)                (sausage)  0.005948    0.061253   \n",
       "341                (sausage)                   (soda)  0.005948    0.098560   \n",
       "212                    (ham)             (whole milk)  0.002740    0.160156   \n",
       "128                 (yogurt)           (citrus fruit)  0.004611    0.053696   \n",
       "129           (citrus fruit)                 (yogurt)  0.004611    0.086792   \n",
       "330        (root vegetables)          (shopping bags)  0.003342    0.048031   \n",
       "329          (shopping bags)        (root vegetables)  0.003342    0.070225   \n",
       "8                  (berries)       (other vegetables)  0.002673    0.122699   \n",
       "9         (other vegetables)                (berries)  0.002673    0.021894   \n",
       "202  (fruit/vegetable juice)             (rolls/buns)  0.003743    0.110020   \n",
       "203             (rolls/buns)  (fruit/vegetable juice)  0.003743    0.034022   \n",
       "\n",
       "         lift  \n",
       "148  1.446615  \n",
       "149  1.446615  \n",
       "60   1.362937  \n",
       "59   1.362937  \n",
       "193  1.225966  \n",
       "192  1.225966  \n",
       "21   1.222000  \n",
       "22   1.222000  \n",
       "174  1.116150  \n",
       "173  1.116150  \n",
       "349  1.108986  \n",
       "350  1.108986  \n",
       "190  1.097751  \n",
       "191  1.097751  \n",
       "109  1.081592  \n",
       "110  1.081592  \n",
       "185  1.044134  \n",
       "226  1.039991  \n",
       "63   1.030127  \n",
       "64   1.030127  \n",
       "279  1.027617  \n",
       "278  1.027617  \n",
       "342  1.014975  \n",
       "341  1.014975  \n",
       "212  1.014142  \n",
       "128  1.010642  \n",
       "129  1.010642  \n",
       "330  1.009388  \n",
       "329  1.009388  \n",
       "8    1.004899  \n",
       "9    1.004899  \n",
       "202  1.000136  \n",
       "203  1.000136  "
      ]
     },
     "execution_count": 43,
     "metadata": {},
     "output_type": "execute_result"
    }
   ],
   "source": [
    "# Lift > 1\n",
    "rules[rules['lift'] > 1]"
   ]
  },
  {
   "cell_type": "markdown",
   "id": "86b12a8e-2045-43ab-804c-31f857870f7d",
   "metadata": {},
   "source": [
    "**Sausage Relationships**:\n",
    "   - Curd --> Sausage has lift 1.447 --> buying curd increases the chance of buying sausage by ~44.7% compared to random.\n",
    "   - Sausage also shows positive association with **frozen vegetables, bottled beer, yogurt, pastry, and soda**."
   ]
  }
 ],
 "metadata": {
  "kernelspec": {
   "display_name": "Python 3 (ipykernel)",
   "language": "python",
   "name": "python3"
  },
  "language_info": {
   "codemirror_mode": {
    "name": "ipython",
    "version": 3
   },
   "file_extension": ".py",
   "mimetype": "text/x-python",
   "name": "python",
   "nbconvert_exporter": "python",
   "pygments_lexer": "ipython3",
   "version": "3.12.2"
  }
 },
 "nbformat": 4,
 "nbformat_minor": 5
}
